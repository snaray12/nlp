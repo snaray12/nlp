{
 "cells": [
  {
   "cell_type": "code",
   "execution_count": 1,
   "metadata": {},
   "outputs": [],
   "source": [
    "from __future__ import unicode_literals, print_function, division\n",
    "from io import open\n",
    "import unicodedata\n",
    "import string\n",
    "import re\n",
    "import random\n",
    "\n",
    "import torch\n",
    "import torch.nn as nn\n",
    "from torch import optim\n",
    "import torch.nn.functional as F\n",
    "\n",
    "device = torch.device(\"cuda\" if torch.cuda.is_available() else \"cpu\")"
   ]
  },
  {
   "cell_type": "code",
   "execution_count": 53,
   "metadata": {},
   "outputs": [],
   "source": [
    "import langdetect"
   ]
  },
  {
   "cell_type": "code",
   "execution_count": 2,
   "metadata": {},
   "outputs": [],
   "source": [
    "SOS_token = 0\n",
    "EOS_token = 1\n",
    "\n",
    "\n",
    "class Lang:\n",
    "    def __init__(self, name):\n",
    "        self.name = name\n",
    "        self.word2index = {}\n",
    "        self.word2count = {}\n",
    "        self.index2word = {0: \"SOS\", 1: \"EOS\"}\n",
    "        self.n_words = 2  # Count SOS and EOS\n",
    "\n",
    "    def addSentence(self, sentence):\n",
    "        for word in sentence.split(' '):\n",
    "            self.addWord(word)\n",
    "\n",
    "    def addWord(self, word):\n",
    "        if word not in self.word2index:\n",
    "            self.word2index[word] = self.n_words\n",
    "            self.word2count[word] = 1\n",
    "            self.index2word[self.n_words] = word\n",
    "            self.n_words += 1\n",
    "        else:\n",
    "            self.word2count[word] += 1"
   ]
  },
  {
   "cell_type": "code",
   "execution_count": 59,
   "metadata": {},
   "outputs": [],
   "source": [
    "# Turn a Unicode string to plain ASCII, thanks to\n",
    "# https://stackoverflow.com/a/518232/2809427\n",
    "def unicodeToAscii(s):\n",
    "    return ''.join(\n",
    "        c for c in unicodedata.normalize('NFD', s)\n",
    "        if unicodedata.category(c) != 'Mn'\n",
    "    )\n",
    "\n",
    "# Lowercase, trim, and remove non-letter characters\n",
    "\n",
    "\n",
    "def normalizeString(s):\n",
    "#     print(s)\n",
    "    if langdetect.detect(s) == 'en':\n",
    "        s = unicodeToAscii(s.lower().strip())\n",
    "#         print(s)\n",
    "        s = re.sub(r\"([.!?])\", r\" \\1\", s)\n",
    "#         print(s)\n",
    "        s = re.sub(r\"[^a-zA-Z.!?]+\", r\" \", s)\n",
    "#         print(s)\n",
    "    else :\n",
    "         s = s.lower().strip()\n",
    "    return s"
   ]
  },
  {
   "cell_type": "code",
   "execution_count": 60,
   "metadata": {},
   "outputs": [],
   "source": [
    "def readLangs(lang1, lang2, reverse=False):\n",
    "    print(\"Reading lines...\")\n",
    "\n",
    "    # Read the file and split into lines\n",
    "    lines = open('data/%s-%s.txt' % (lang1, lang2), encoding='UTF-8').\\\n",
    "        read().strip().split('\\n')\n",
    "    \n",
    "#     lines = lines[:1]\n",
    "#     print(lines)\n",
    "\n",
    "    # Split every line into pairs and normalize\n",
    "    pairs = [[normalizeString(s) for s in l.split('\\t')] for l in lines]\n",
    "#     print(pairs[:1])\n",
    "\n",
    "    # Reverse pairs, make Lang instances\n",
    "    if reverse:\n",
    "        pairs = [list(reversed(p)) for p in pairs]\n",
    "        input_lang = Lang(lang2)\n",
    "        output_lang = Lang(lang1)\n",
    "    else:\n",
    "        input_lang = Lang(lang1)\n",
    "        output_lang = Lang(lang2)\n",
    "\n",
    "    return input_lang, output_lang, pairs"
   ]
  },
  {
   "cell_type": "code",
   "execution_count": 61,
   "metadata": {},
   "outputs": [],
   "source": [
    "MAX_LENGTH = 10\n",
    "\n",
    "eng_prefixes = (\n",
    "    \"i am \", \"i m \",\n",
    "    \"he is\", \"he s \",\n",
    "    \"she is\", \"she s \",\n",
    "    \"you are\", \"you re \",\n",
    "    \"we are\", \"we re \",\n",
    "    \"they are\", \"they re \"\n",
    ")\n",
    "\n",
    "\n",
    "def filterPair(p):\n",
    "    return len(p[0].split(' ')) < MAX_LENGTH and \\\n",
    "        len(p[1].split(' ')) < MAX_LENGTH and \\\n",
    "        p[1].startswith(eng_prefixes)\n",
    "\n",
    "\n",
    "def filterPairs(pairs):\n",
    "    return [pair for pair in pairs if filterPair(pair)]"
   ]
  },
  {
   "cell_type": "code",
   "execution_count": 62,
   "metadata": {},
   "outputs": [],
   "source": [
    "def prepareData(lang1, lang2, reverse=False):\n",
    "    input_lang, output_lang, pairs = readLangs(lang1, lang2, reverse)\n",
    "#     print(pairs[:1])\n",
    "    print(\"Read %s sentence pairs\" % len(pairs))\n",
    "    print(\"At prepare data\\n\", pairs)\n",
    "    pairs = filterPairs(pairs)\n",
    "    print(\"Trimmed to %s sentence pairs\" % len(pairs))\n",
    "    print(\"Counting words...\")\n",
    "    for pair in pairs:\n",
    "        input_lang.addSentence(pair[0])\n",
    "        output_lang.addSentence(pair[1])\n",
    "    print(\"Counted words:\")\n",
    "    print(input_lang.name, input_lang.n_words)\n",
    "    print(output_lang.name, output_lang.n_words)\n",
    "    return input_lang, output_lang, pairs\n",
    "\n",
    "\n"
   ]
  },
  {
   "cell_type": "code",
   "execution_count": 63,
   "metadata": {},
   "outputs": [
    {
     "name": "stdout",
     "output_type": "stream",
     "text": [
      "Reading lines...\n",
      "Read 197 sentence pairs\n",
      "At prepare data\n",
      " [['நான் தூங்கினேன்.', 'i slept.'], ['அமைதியாக இருங்கள்', 'calm down .'], ['நான் நடப்பேன்.', \"i'll walk.\"], ['அவன் யார்?', 'who is he ?'], ['யாருக்குத் தெரியும்?', 'who knows ?'], ['அவள் சிரித்தாள்', 'she smiled .'], ['என்னிடம் பேசு', 'talk to me!'], ['அவள் யார்?', 'who is she ?'], ['போய் தூங்கு', 'go to sleep.'], ['மழை பெய்யலாம்', 'it may rain .'], ['அவள் அவனைக் கடித்தாள்', 'she bit him.'], ['அவள் அவனைக் அடித்தாள்', 'she hit him.'], ['அவள் அன்பானவள்', 'she is kind .'], ['அவளுக்கு எட்டு வயது', 'she is eight .'], ['நாம் எங்கே இருக்கிறோம்?', 'where are we ?'], ['தொடர்பில் இரு', 'keep in touch !'], ['மறுபடியும் சந்திப்போம்', 'see you again.'], ['அவளிடம் கொடு', 'give it to her .'], ['நான் நிறைய சாப்பிட்டேன்', 'i ate too much .'], ['அதை நான் பார்க்கிறேன்', 'i ll see to it .'], ['உன் கையில்தான் இருக்கிறது', 'it s up to you .'], ['என்னிடம் விட்டுவிடு', 'leave it to me .'], ['இதைக் கேள்', 'listen to this !'], ['அந்த பக்கம்தான் வழி', 'that s the way .'], ['என்னை வந்து பார்', 'come and see me .'], ['என்னிடம் பொய் சொல்லாதே', 'don t lie to me .'], ['அவன் ஓட ஆரம்பித்தான்', 'he began to run .'], ['அவன் இப்பொழுதுதான் வந்தான்', 'he just arrived .'], ['அவன் ஓட விருப்பப் படுகிறான்', 'he likes to run.'], ['தங்களுடைய தந்தையார் எப்படி இருக்கிறார்கள்?', 'how is your dad ?'], ['நான் தூங்க விரும்புகிறேன்', 'i want to sleep.'], ['என்னால் ஓட முடிகிறது', \"i'm able to run.\"], ['கையைத் தூக்கு', 'raise your hand.'], ['அவன் என்ன சொன்னான்?', 'what did he say ?'], ['எப்பொழுது நம்மால் சாப்பிட முடியும்', 'when can we eat ?'], ['வா எங்களுக்கு உதவி செய்', 'come and help us .'], ['அவன் இன்னும் இருக்கிறான்', 'he is still here .'], ['நான் இப்பொழுது போக வேண்டும்', 'i have to go now .'], ['எனக்கு அவ்வளவு தெரியும்.', 'i know that much .'], ['நான் ஒரு தவறு செய்தேன்?', 'i made a mistake.'], ['நான் பள்ளிக்கு நடந்து செல்கிறேன்', 'i walk to school .'], ['அது எங்களுடைய வீடு', 'that s our house .'], ['அவைகள் என்னுடைய cd கள்', 'those are my cds .'], ['எனக்கு முன்னால் நட', 'walk ahead of me .'], ['நாங்கள் உன்னைத் பின்பற்றுவோம் (அ) தொடர்வோம்.', \"we'll follow you.\"], ['நாய் ஜாக்கிரதை!', 'beware of the dog !'], ['அவன் சீக்கிரம் திரும்பி வந்தான்', 'he came back soon .'], ['அவருக்கு மூன்று மகன்கள்', 'he has three sons .'], ['எப்படி பனியில் சறுக்கி விளையாடுவது என்பது எனக்கு தெரியும்', 'i know how to ski.'], ['என்ன செய்வது என்பது எனக்குத் தெரியும்', 'i know what to do .'], ['நான் ஒரு விதமான மகிழ்ச்சியிலிருக்கிறேன்', 'i m kind of happy .'], ['வலது பக்கத்தை கடைப் பிடி', 'keep to the right .'], ['அவள் பாட ஆரம்பித்தாள்', 'she began to sing .'], ['அவள் போகத் தீர்மானித்தாள்', 'she decided to go .'], ['நான் படிக்க வேண்டுமா?', 'do i have to study ?'], ['அவன் வருவது நிச்சயம்', 'he is sure to come .'], ['நான் வீட்டிற்கு நடக்க வேண்டியிருந்தது', 'i had to walk home.'], ['நான் ஆடை அணிய வேண்டும்', 'i have to dress up .'], ['நான் அவனை வரச் சொன்னேன்', 'i told him to come .'], ['என்னிடம் பணம் குறைவாக இருக்கிறது', 'i m short of money .'], ['நான் உன்னிடம் பேசலாமா?', 'may i speak to you ?'], ['அவள் இதை அவனுக்குக் கொடுத்தாள்', 'she gave it to him.'], ['அவள் அவனிடம் அன்பாக இருக்கிறாள்', 'she is kind to him .'], ['அவள் எனக்கு அருகில் அமர்ந்தாள்', 'she sat next to me .'], ['வாயை மூடி கவனி', 'shut up and listen !'], ['நான் என்ன செய்ய வேண்டும் என்று சொல்', 'tell me what to do .'], ['டாம் ரொம்ப வேகமாக ஓடுகிறான்', 'tom runs very fast.'], ['எங்களுக்கு உணவு தட்டுப்பாடு ஏற்பட்டது', 'we ran out of food .'], ['நாங்கள் நடக்க ஆரம்பித்தோம்', 'we started to walk .'], ['இது எப்பொழுது ஆரம்பிக்கிறது?', 'when does it begin?'], ['நீங்கள் போகத் தயாராக இருக்கிறீர்களா?', 'are you ready to go ?'], ['உன்னிடம் ஏதாவது பசை இருக்கிறதா?', 'do you have any gum ?'], ['அவள் பியானோ வாசிக்கிறாளோ?', 'does she play piano ?'], ['அவள் சொல்வதைக் கேட்காதீர்', \"don't listen to her.\"], ['போய் மேரியை எழுப்பு', 'go and wake mary up.'], ['அவனுக்கு நம்மைப் தெரியும் என்று தோன்றுகிறது', 'he seems to know us .'], ['எனக்கு அவளோடு நிச்சயமாகியிருக்கு', 'i am engaged to her .'], ['நான் இப்பொழுது கிளம்ப வேண்டும்', 'i have to leave now .'], ['நான் வெளி நாட்டிற்குச் செல்ல விரும்புகிறேன்', 'i want to go abroad .'], ['உன்னைப் பார்ப்பதில் நான் மகிழ்ச்சி அடைகிறேன்', \"i'm glad to see you.\"], ['என் மகனைப் பற்றி பெருமைப் படுகிறேன்', 'i m proud of my son .'], ['நான் உன்னை விட உயரமாக இருக்கிறேன்', 'i m taller than you .'], ['நான் தூங்குவதற்கு முயற்சி செய்து கொண்டிருக்கிறேன்', 'i m trying to sleep .'], ['இதற்கு கட்டணமில்லை', 'it s free of charge .'], ['தூக்கத்திலிருந்து எழுவதற்கான நேரம் இது', 'it s time to get up .'], ['என் கூட யாரும் பேசுவதில்லை', 'nobody speaks to me.'], ['பந்தை என்னிடம் உருட்டி விடு', 'roll the ball to me .'], ['அவள் முட்டைகளை வேக வைத்தாள்', 'she boiled the eggs .'], ['அவள் அவனோடு நடனம் ஆடினாள்', 'she danced with him .'], ['அவள் அவனுக்கு ஒரு புத்தகத்தைக் கொடுத்தாள்', 'she gave him a book .'], ['அவளிடம் 2000 புத்தகங்கள் உள்ளன', 'she has books .'], ['இந்த ஆப்பிள் இனிப்பாக இருக்கிறது', 'this apple is sweet .'], ['அவன் ஏரியில் நீச்சலடித்தான்', 'we swam in the lake .'], ['ஆறு மணிக்கு முன்பு வீட் டிற்கு வா', 'come home before six .'], ['போய் யார் என்று பார்', 'go and see who it is .'], ['எனக்குக் கரடிகளைக கண்டால் பயம்', 'i am afraid of bears .'], ['அவன் வருவான் என எதிர் பார்க்கிறேன்', 'i expect him to come .'], ['இது ஒரு கேக்கின் துண்டு', 'it s a piece of cake .'], ['அந்த பையன் அழ ஆரம்பித்தான்', 'the boy began to cry .'], ['நீ இதில் தலையிடாதே', 'you keep out of this .'], ['நாங்கள் அனைவரும் அமைதியாக இருந்தோம்', 'all of us were silent .'], ['வயோதிகர்களிடம் அன்பாக இரு', 'be kind to old people .'], ['ஜேப்படிகாரர்களிடம் ஜாக்கிரதையாக இருக்கவும்', 'beware of pickpockets .'], ['குடித்துவிட்டு வண்டி ஓட்டாதே', \"don't drink and drive.\"], ['அவனுக்கு எழுதப் படிக்கத் தெரியும்', 'he can read and write .'], ['அவனுக்கு நிறைய பணம் கிடைத்தது', 'he got a lot of money .'], ['அவனிடம் நிறைய பணமிருக்கிறது', 'he has a lot of money .'], ['அவனுக்கு இறந்து போவதென்றால் பயம்', 'he is afraid of death .'], ['அவன் கயிற்றை விட்டான்', 'he let go of the rope .'], ['நான் வேலை பளுவினால் சோர்வாகயிருக்கிறேன்', 'i am tired of my work .'], ['நான் டாக்ஸியிலிருந்து இறங்கினேன்', 'i got out of the taxi .'], ['இது உங்களுக்கு சம்பந்தமில்லாத விஷயம்', 'none of your business .'], ['அவர்கள் மேரியை கிண்டலடித்தார்கள்', 'they made fun of mary .'], ['டாமும் நானும் நண்பர்கள்', 'tom and i are friends.'], ['உங்கள் பிறந்த நாள் எப்போது ?', 'when is your birthday ?'], ['அவர்கள் எல்லோரும் அங்கே சென்றார்கள்', 'all of them went there .'], ['உங்களுக்கு சைக்கிள் ஓட்டத் தெரியுமா?', 'can you ride a bicycle?'], ['நீ பணக்காரராக விருப்பமா?', 'do you want to be rich ?'], ['அவர்களுக்கு பாம்புகள் என்றால் பயம்', 'he is afraid of snakes .'], ['அவனுக்கு நீச்சல் மீது பற்று உண்டு', 'he is fond of swimming .'], ['அவன் எனக்குப் பதிலாக சேன்றான்', 'he went in place of me .'], ['அவனுக்குக் கடல் என்றால் பயம்', 'he s afraid of the sea .'], ['நான் அதை உன்னிடம் விட்டு விடுகிறேன்', 'i ll leave that to you .'], ['அவள் உன்னை வெறுக்கிற மாதிரி தெரிகிறது', 'it seems she hates you .'], ['அவள் அவனுக்கு நிச்சயிக்கப் பட்டாள்', 'she got engaged to him .'], ['அவள் அவனுக்கு திருமணம் செய்து வைக்கப் பட்டாள்', 'she got married to him .'], ['அவனுக்கு நெருக்கமாக நின்றாள்', 'she stood close to him .'], ['அவர்கள் கிளம்ப இருக்கிறார்கள்', 'they re about to leave .'], ['இந்த சீடி அவளுக்குச் சொந்தமானது', 'this cd belongs to her .'], ['நாங்கள் திருடனுக்குப் பின்னால் ஓடினோம்', 'we ran after the thief .'], ['நீ என்ன செய்யத் திட்டமிட்டிருக்கிறாய்', 'what do you plan to do ?'], ['ஒரு சதுரத்திற்கு நான்கு பக்கங்கள் உள்ளன', 'a square has four sides.'], ['என்னுடைய கணக்கிற்கு மாற்று', 'charge it to my account .'], ['அவர்கள் கடிதம் எழுதினார்களா?', 'did they write a letter ?'], ['எங்களை உதவி செய்யும்படி கேட்டான்', 'he asked us to help him .'], ['அவன் ஒவ்வொருவருக்கும் அறிமுகமானவன்', 'he is known to everyone .'], ['எங்களுடைய திட்டத்திற்கு எதிர்ப்புத் தெரிவித்தான்', 'he objected to our plan .'], ['நீ வர வேண்டுமென விரும்புகிறேன்', 'i just want you to come .'], ['எனக்கு சாப்பிட ஏதாவது வேண்டும்', 'i want something to eat .'], ['அவர் உங்களுடைய நண்பரா?', 'is he a friend of yours ?'], ['செய்தி வேகமாக பரவியது', 'the news quickly spread .'], ['இது எங்கே இருக்கு என்று என்னால் கண்டுபிடிக்க முடியவில்லை.', 'i can t find it anywhere .'], ['நீ கோபமாக இருப்பாய் என்று எண்ணினேன்.', 'i thought you d be angry .'], ['இங்கே அமருங்கள்,தயவு செயது காத்திருங்கள்', 'please sit here and wait .'], ['அவள் அறையை விட்டு வெளியே சென்றாள்', 'she went out of the room .'], ['மெதுவாகவும் தெளிவாகவும் பேசுங்கள்', 'speak slowly and clearly .'], ['வானம் முழுவதும் நட்சத்திரங்கள் இருக்கின்றன', 'the sky is full of stars .'], ['உடனே வந்து என்னைப் பார்க்கவும்', 'come and see me right now .'], ['உன்னிடம் நிறைய பேனாக்கள் இருக்கின்றனவா?', 'do you have a lot of pens ?'], ['போய் உன் தந்தையருகில் அமரவும்', 'go and sit by your father .'], ['நான் ஒரு ஜோடி காலணிகளை வாங்கினேன்', 'he bought a pair of shoes .'], ['நான் கீழ் தளத்தில் வசிக்கிறேன்', 'i live on the bottom floor .'], ['டாமுக்கும் ஜானுக்கும் இடையில் அமர்ந்தேன்', 'i sat between tom and john .'], ['அவள் அழகான ஆடை அணிந்திருந்தாள்', 'she wore a beautiful dress .'], ['நீ எப்பொழுது ஜப்பான் வந்தாய்?', 'when did you come to japan ?'], ['நிறைய மக்கள் நான் பைத்தியம் என்று எண்ணுகிறார்கள்', 'most people think i m crazy .'], ['டாம் இன்னும் உயிருடனிருக்கிறான் என்று எண்ணுகிறேன்.', 'i suppose tom is still alive.'], ['அவனைக் கொஞ்சம் பணம் கேட்டாள்', 'she asked him for some money .'], ['டாம் அதைப் பற்றி அவனே என்னிடம் சொன்னான்.', 'tom told me about it himself .'], ['அவன் எப்ப வருவான் என்று உனக்குத் தெரியுமா', 'do you know when he will come ?'], ['ஒரு நாயின் படத்தை வரைந்தான்', 'he painted a picture of a dog .'], ['மற்றவர்களுக்கு முன்னே நான் வந்தேன்', 'i arrived ahead of the others .'], ['இந்த ஊரின் ஒவ்வொரு அங்குலமும் எனக்குத் தெரியும்', 'i know every inch of the town .'], ['டாமிடம் நான் இதை பகிர்ந்துகொண்டு இருக்கவில்லை.', 'i m not sharing this with tom .'], ['அவள் எதற்கும் பயப்படுவதில்லை', 'she is not afraid of anything .'], ['முட்டைகளின் விலை அதிகரித்துக் கொண்டிருக்கிறது', 'the price of eggs is going up .'], ['இந்த தொப்பியின் விலை என்ன?', 'what is the price of this cap ?'], ['இவர்களில் யார் உன்னுடைய சகோதரர்', 'which of them is your brother ?'], ['மணி ஒலித்தப் பிறகு அவன் வந்தான்', 'he arrived after the bell rang .'], ['அவன் அபாயத்தை அறிந்திருக்க வில்லை', 'he was not aware of the danger .'], ['சின்ன கேக்குத் துண்டு அவள் தொண்டையில் சிக்கிக் கொண்டது', 'my throat hurts when i swallow .'], ['இந்த பள்ளி கூடம் ஒரு சிறைச்சாலையைப் போல இருக்கிறது', 'the school looks like a prison.'], ['எப்படி பதில் சொல்வது என்பதில் நான் உறுதியாக இல்லை.', 'i m not sure how to answer this .'], ['இங்கிருந்து வெளியே செல்ல சுலபமான வழியில்லை.', 'there s no easy way out of here .'], ['கல்யாணம் எப்பொழுது நடைப் பெற்றது', 'when did the wedding take place ?'], ['நீ பாஸ்போர்ட்டைஎங்கே வைத்திருக்கிறாய்?', 'where do you keep your passport ?'], ['அவனுக்கு உடல் நிலை சரியில்லாததனால் அவனால் வர இயலாது', 'because he s sick he can t come .'], ['நட்புக்குத் தேவை பரஸ்பர நம்பிக்கை', 'friendship requires mutual trust.'], ['அவன் மேரியின் விரலில் மோதிரத்தை அணிவித்தான்', 'he put the ring on mary s finger .'], ['அவள் பத்திரிக்கையை மேலோட்டமாகப் பார்த்தாள்', 'she glanced through the magazine .'], ['டாம் மதியம் முழுவதும் அழுதுகொண்டேயிருக்கிறான்.', 'tom has been crying all afternoon .'], ['டாம் மேரியுடன் தொடர்பிலிருந்துருக்கிறான் அல்லது டாம் மேரியுடன் தொடர்பிலிருக்கிறான்.', 'tom has been in contact with mary .'], ['நான் எதிர் காலத்தில் ஒரு விமானியாக விரும்புகிறேன்', 'i want to be a pilot in the future .'], ['இரயிலில் என்னிடம் ஜேப்படி அடிக்கப் பட்டிருந்தது', 'i had my pocket picked on the train .'], ['அவன் அவளிடம் ஏதோ சொன்னான் மற்றும் அவள் சிரித்தாள்.', 'he told her something and she smiled .'], ['இருட்டாக இருக்கும் பொழுது நான் வெளியே போக விரும்புவதில்லை.', 'i don t like to go out when it s dark .'], ['இது செர்பியாவின் மூன்றாவது பெரிய நகரம்.', 'it s the third biggest city of serbia .'], ['அவன் பேசியப் பொழுது எல்லோரும் அமைதி காத்தார்கள்', 'when he spoke everyone became silent .'], ['அவன் ஒட்டினக் காரில் அவள் எப்பொழுதும் இருந்ததில்லை', 'she has never been in a car driven by him .'], ['டாம் மேரியுடன் ஒவ்வொரு ஞாயிற்றுக் கிழமையும் தேவாலயத்துக்குச் செல்கிறான்.', 'tom goes to church with mary every sunday .'], ['மக்கள் அந்த வார்த்தையைப் பயன் படுத்துவதாக எனக்குத் தெரியவில்லை', 'i don t think people use that word anymore .'], ['என் தங்கை இள வயதிலேய கல்யாணம் செய்து கொண்டாள்', 'my younger sister got married in her teens.'], ['ஏன் டாம் நாமிருவரும் சேர்ந்து செய்வோமென்று பரிந்துரைத்தான் என்று ஆச்சரியமடைகிறேன்.', 'i wonder why tom suggested we do that together .'], ['கண்ணாடி வீட்டில் வசிப்பவகள் கல்லை எறியக் கூடாது', 'people who live in glass houses shouldn t throw stones .'], ['ஒருவர் அந்த வார்த்தையைப் பயன் படுத்துவதைக் கேட்டு ரொம்ப நாளாகிறது', 'it s been a long time since i ve heard anyone use that word .'], ['உங்களுடைய வேலையாட்கள் மகிழ்ச்சியாக இருக்க வேண்டுமென்றால் நீங்கள் கணிசமான சம்பளம் தர வேண்டும்', 'if you want your workers to be happy you need to pay them a decent wage .'], ['என்னுடையத் தவறினால் கேக்கானதுக் கருகிப் போனது.தோலைப் பேசியில் பேசிக் கொண்டிருந்ததால் நேரத்தைக் கவனிக்க வில்லை', 'it s my fault that the cake was burned . i was talking on the phone and didn t notice the time .']]\n",
      "Trimmed to 22 sentence pairs\n",
      "Counting words...\n",
      "Counted words:\n",
      "tam 75\n",
      "eng 56\n",
      "['அவர்கள் கிளம்ப இருக்கிறார்கள்', 'they re about to leave .']\n"
     ]
    }
   ],
   "source": [
    "input_lang, output_lang, pairs = prepareData('eng', 'tam', True)\n",
    "print(random.choice(pairs))"
   ]
  },
  {
   "cell_type": "code",
   "execution_count": null,
   "metadata": {},
   "outputs": [],
   "source": []
  },
  {
   "cell_type": "code",
   "execution_count": 64,
   "metadata": {},
   "outputs": [],
   "source": [
    "class EncoderRNN(nn.Module):\n",
    "    def __init__(self, input_size, hidden_size):\n",
    "        super(EncoderRNN, self).__init__()\n",
    "        self.hidden_size = hidden_size\n",
    "\n",
    "        self.embedding = nn.Embedding(input_size, hidden_size)\n",
    "        self.gru = nn.GRU(hidden_size, hidden_size)\n",
    "\n",
    "    def forward(self, input, hidden):\n",
    "        embedded = self.embedding(input).view(1, 1, -1)\n",
    "        output = embedded\n",
    "        output, hidden = self.gru(output, hidden)\n",
    "        return output, hidden\n",
    "\n",
    "    def initHidden(self):\n",
    "        return torch.zeros(1, 1, self.hidden_size, device=device)"
   ]
  },
  {
   "cell_type": "code",
   "execution_count": 65,
   "metadata": {},
   "outputs": [],
   "source": [
    "class DecoderRNN(nn.Module):\n",
    "    def __init__(self, hidden_size, output_size):\n",
    "        super(DecoderRNN, self).__init__()\n",
    "        self.hidden_size = hidden_size\n",
    "\n",
    "        self.embedding = nn.Embedding(output_size, hidden_size)\n",
    "        self.gru = nn.GRU(hidden_size, hidden_size)\n",
    "        self.out = nn.Linear(hidden_size, output_size)\n",
    "        self.softmax = nn.LogSoftmax(dim=1)\n",
    "\n",
    "    def forward(self, input, hidden):\n",
    "        output = self.embedding(input).view(1, 1, -1)\n",
    "        output = F.relu(output)\n",
    "        output, hidden = self.gru(output, hidden)\n",
    "        output = self.softmax(self.out(output[0]))\n",
    "        return output, hidden\n",
    "\n",
    "    def initHidden(self):\n",
    "        return torch.zeros(1, 1, self.hidden_size, device=device)"
   ]
  },
  {
   "cell_type": "code",
   "execution_count": 66,
   "metadata": {},
   "outputs": [],
   "source": [
    "class AttnDecoderRNN(nn.Module):\n",
    "    def __init__(self, hidden_size, output_size, dropout_p=0.1, max_length=MAX_LENGTH):\n",
    "        super(AttnDecoderRNN, self).__init__()\n",
    "        self.hidden_size = hidden_size\n",
    "        self.output_size = output_size\n",
    "        self.dropout_p = dropout_p\n",
    "        self.max_length = max_length\n",
    "\n",
    "        self.embedding = nn.Embedding(self.output_size, self.hidden_size)\n",
    "        self.attn = nn.Linear(self.hidden_size * 2, self.max_length)\n",
    "        self.attn_combine = nn.Linear(self.hidden_size * 2, self.hidden_size)\n",
    "        self.dropout = nn.Dropout(self.dropout_p)\n",
    "        self.gru = nn.GRU(self.hidden_size, self.hidden_size)\n",
    "        self.out = nn.Linear(self.hidden_size, self.output_size)\n",
    "\n",
    "    def forward(self, input, hidden, encoder_outputs):\n",
    "        embedded = self.embedding(input).view(1, 1, -1)\n",
    "        embedded = self.dropout(embedded)\n",
    "\n",
    "        attn_weights = F.softmax(\n",
    "            self.attn(torch.cat((embedded[0], hidden[0]), 1)), dim=1)\n",
    "        attn_applied = torch.bmm(attn_weights.unsqueeze(0),\n",
    "                                 encoder_outputs.unsqueeze(0))\n",
    "\n",
    "        output = torch.cat((embedded[0], attn_applied[0]), 1)\n",
    "        output = self.attn_combine(output).unsqueeze(0)\n",
    "\n",
    "        output = F.relu(output)\n",
    "        output, hidden = self.gru(output, hidden)\n",
    "\n",
    "        output = F.log_softmax(self.out(output[0]), dim=1)\n",
    "        return output, hidden, attn_weights\n",
    "\n",
    "    def initHidden(self):\n",
    "        return torch.zeros(1, 1, self.hidden_size, device=device)"
   ]
  },
  {
   "cell_type": "code",
   "execution_count": 67,
   "metadata": {},
   "outputs": [],
   "source": [
    "def indexesFromSentence(lang, sentence):\n",
    "    return [lang.word2index[word] for word in sentence.split(' ')]\n",
    "\n"
   ]
  },
  {
   "cell_type": "code",
   "execution_count": 68,
   "metadata": {},
   "outputs": [],
   "source": [
    "\n",
    "def tensorFromSentence(lang, sentence):\n",
    "    indexes = indexesFromSentence(lang, sentence)\n",
    "    indexes.append(EOS_token)\n",
    "    return torch.tensor(indexes, dtype=torch.long, device=device).view(-1, 1)\n",
    "\n"
   ]
  },
  {
   "cell_type": "code",
   "execution_count": 69,
   "metadata": {},
   "outputs": [],
   "source": [
    "\n",
    "def tensorsFromPair(pair):\n",
    "    input_tensor = tensorFromSentence(input_lang, pair[0])\n",
    "    target_tensor = tensorFromSentence(output_lang, pair[1])\n",
    "    return (input_tensor, target_tensor)"
   ]
  },
  {
   "cell_type": "code",
   "execution_count": 70,
   "metadata": {},
   "outputs": [],
   "source": [
    "teacher_forcing_ratio = 0.5\n",
    "\n",
    "\n",
    "def train(input_tensor, target_tensor, encoder, decoder, encoder_optimizer, decoder_optimizer, criterion, max_length=MAX_LENGTH):\n",
    "    encoder_hidden = encoder.initHidden()\n",
    "\n",
    "    encoder_optimizer.zero_grad()\n",
    "    decoder_optimizer.zero_grad()\n",
    "\n",
    "    input_length = input_tensor.size(0)\n",
    "    target_length = target_tensor.size(0)\n",
    "\n",
    "    encoder_outputs = torch.zeros(max_length, encoder.hidden_size, device=device)\n",
    "\n",
    "    loss = 0\n",
    "\n",
    "    for ei in range(input_length):\n",
    "        encoder_output, encoder_hidden = encoder(\n",
    "            input_tensor[ei], encoder_hidden)\n",
    "        encoder_outputs[ei] = encoder_output[0, 0]\n",
    "\n",
    "    decoder_input = torch.tensor([[SOS_token]], device=device)\n",
    "\n",
    "    decoder_hidden = encoder_hidden\n",
    "\n",
    "    use_teacher_forcing = True if random.random() < teacher_forcing_ratio else False\n",
    "\n",
    "    if use_teacher_forcing:\n",
    "        # Teacher forcing: Feed the target as the next input\n",
    "        for di in range(target_length):\n",
    "            decoder_output, decoder_hidden, decoder_attention = decoder(\n",
    "                decoder_input, decoder_hidden, encoder_outputs)\n",
    "            loss += criterion(decoder_output, target_tensor[di])\n",
    "            decoder_input = target_tensor[di]  # Teacher forcing\n",
    "\n",
    "    else:\n",
    "        # Without teacher forcing: use its own predictions as the next input\n",
    "        for di in range(target_length):\n",
    "            decoder_output, decoder_hidden, decoder_attention = decoder(\n",
    "                decoder_input, decoder_hidden, encoder_outputs)\n",
    "            topv, topi = decoder_output.topk(1)\n",
    "            decoder_input = topi.squeeze().detach()  # detach from history as input\n",
    "\n",
    "            loss += criterion(decoder_output, target_tensor[di])\n",
    "            if decoder_input.item() == EOS_token:\n",
    "                break\n",
    "\n",
    "    loss.backward()\n",
    "\n",
    "    encoder_optimizer.step()\n",
    "    decoder_optimizer.step()\n",
    "\n",
    "    return loss.item() / target_length"
   ]
  },
  {
   "cell_type": "code",
   "execution_count": 71,
   "metadata": {},
   "outputs": [],
   "source": [
    "import time\n",
    "import math\n",
    "\n",
    "\n",
    "def asMinutes(s):\n",
    "    m = math.floor(s / 60)\n",
    "    s -= m * 60\n",
    "    return '%dm %ds' % (m, s)\n",
    "\n",
    "\n",
    "def timeSince(since, percent):\n",
    "    now = time.time()\n",
    "    s = now - since\n",
    "    es = s / (percent)\n",
    "    rs = es - s\n",
    "    return '%s (- %s)' % (asMinutes(s), asMinutes(rs))"
   ]
  },
  {
   "cell_type": "code",
   "execution_count": 72,
   "metadata": {},
   "outputs": [],
   "source": [
    "def trainIters(encoder, decoder, n_iters, print_every=1000, plot_every=100, learning_rate=0.01):\n",
    "    start = time.time()\n",
    "    plot_losses = []\n",
    "    print_loss_total = 0  # Reset every print_every\n",
    "    plot_loss_total = 0  # Reset every plot_every\n",
    "\n",
    "    encoder_optimizer = optim.SGD(encoder.parameters(), lr=learning_rate)\n",
    "    decoder_optimizer = optim.SGD(decoder.parameters(), lr=learning_rate)\n",
    "    training_pairs = [tensorsFromPair(random.choice(pairs))\n",
    "                      for i in range(n_iters)]\n",
    "    criterion = nn.NLLLoss()\n",
    "\n",
    "    for iter in range(1, n_iters + 1):\n",
    "        training_pair = training_pairs[iter - 1]\n",
    "        input_tensor = training_pair[0]\n",
    "        target_tensor = training_pair[1]\n",
    "\n",
    "        loss = train(input_tensor, target_tensor, encoder,\n",
    "                     decoder, encoder_optimizer, decoder_optimizer, criterion)\n",
    "        print_loss_total += loss\n",
    "        plot_loss_total += loss\n",
    "\n",
    "        if iter % print_every == 0:\n",
    "            print_loss_avg = print_loss_total / print_every\n",
    "            print_loss_total = 0\n",
    "            print('%s (%d %d%%) %.4f' % (timeSince(start, iter / n_iters),\n",
    "                                         iter, iter / n_iters * 100, print_loss_avg))\n",
    "\n",
    "        if iter % plot_every == 0:\n",
    "            plot_loss_avg = plot_loss_total / plot_every\n",
    "            plot_losses.append(plot_loss_avg)\n",
    "            plot_loss_total = 0\n",
    "\n",
    "    showPlot(plot_losses)"
   ]
  },
  {
   "cell_type": "code",
   "execution_count": 73,
   "metadata": {},
   "outputs": [],
   "source": [
    "import matplotlib.pyplot as plt\n",
    "plt.switch_backend('agg')\n",
    "import matplotlib.ticker as ticker\n",
    "import numpy as np\n",
    "\n",
    "\n",
    "def showPlot(points):\n",
    "    plt.figure()\n",
    "    fig, ax = plt.subplots()\n",
    "    # this locator puts ticks at regular intervals\n",
    "    loc = ticker.MultipleLocator(base=0.2)\n",
    "    ax.yaxis.set_major_locator(loc)\n",
    "    plt.plot(points)"
   ]
  },
  {
   "cell_type": "code",
   "execution_count": 74,
   "metadata": {},
   "outputs": [],
   "source": [
    "def evaluate(encoder, decoder, sentence, max_length=MAX_LENGTH):\n",
    "    with torch.no_grad():\n",
    "        input_tensor = tensorFromSentence(input_lang, sentence)\n",
    "        input_length = input_tensor.size()[0]\n",
    "        encoder_hidden = encoder.initHidden()\n",
    "\n",
    "        encoder_outputs = torch.zeros(max_length, encoder.hidden_size, device=device)\n",
    "\n",
    "        for ei in range(input_length):\n",
    "            encoder_output, encoder_hidden = encoder(input_tensor[ei],\n",
    "                                                     encoder_hidden)\n",
    "            encoder_outputs[ei] += encoder_output[0, 0]\n",
    "\n",
    "        decoder_input = torch.tensor([[SOS_token]], device=device)  # SOS\n",
    "\n",
    "        decoder_hidden = encoder_hidden\n",
    "\n",
    "        decoded_words = []\n",
    "        decoder_attentions = torch.zeros(max_length, max_length)\n",
    "\n",
    "        for di in range(max_length):\n",
    "            decoder_output, decoder_hidden, decoder_attention = decoder(\n",
    "                decoder_input, decoder_hidden, encoder_outputs)\n",
    "            decoder_attentions[di] = decoder_attention.data\n",
    "            topv, topi = decoder_output.data.topk(1)\n",
    "            if topi.item() == EOS_token:\n",
    "                decoded_words.append('<EOS>')\n",
    "                break\n",
    "            else:\n",
    "                decoded_words.append(output_lang.index2word[topi.item()])\n",
    "\n",
    "            decoder_input = topi.squeeze().detach()\n",
    "\n",
    "        return decoded_words, decoder_attentions[:di + 1]"
   ]
  },
  {
   "cell_type": "code",
   "execution_count": 75,
   "metadata": {},
   "outputs": [],
   "source": [
    "def evaluateRandomly(encoder, decoder, n=10):\n",
    "    for i in range(n):\n",
    "        pair = random.choice(pairs)\n",
    "        print('>', pair[0])\n",
    "        print('=', pair[1])\n",
    "        output_words, attentions = evaluate(encoder, decoder, pair[0])\n",
    "        output_sentence = ' '.join(output_words)\n",
    "        print('<', output_sentence)\n",
    "        print('')"
   ]
  },
  {
   "cell_type": "code",
   "execution_count": 76,
   "metadata": {},
   "outputs": [
    {
     "name": "stdout",
     "output_type": "stream",
     "text": [
      "1m 17s (- 18m 10s) (5000 6%) 0.2351\n",
      "2m 37s (- 17m 6s) (10000 13%) 0.0022\n",
      "3m 58s (- 15m 53s) (15000 20%) 0.0011\n",
      "5m 19s (- 14m 39s) (20000 26%) 0.0007\n",
      "6m 41s (- 13m 23s) (25000 33%) 0.0005\n",
      "8m 2s (- 12m 4s) (30000 40%) 0.0004\n",
      "9m 25s (- 10m 46s) (35000 46%) 0.0004\n",
      "10m 47s (- 9m 26s) (40000 53%) 0.0003\n",
      "12m 10s (- 8m 6s) (45000 60%) 0.0003\n",
      "13m 32s (- 6m 46s) (50000 66%) 0.0002\n",
      "15m 1s (- 5m 27s) (55000 73%) 0.0002\n",
      "16m 27s (- 4m 6s) (60000 80%) 0.0002\n",
      "17m 53s (- 2m 45s) (65000 86%) 0.0002\n",
      "19m 18s (- 1m 22s) (70000 93%) 0.0002\n",
      "20m 39s (- 0m 0s) (75000 100%) 0.0001\n"
     ]
    },
    {
     "data": {
      "text/plain": [
       "<Figure size 432x288 with 0 Axes>"
      ]
     },
     "metadata": {},
     "output_type": "display_data"
    },
    {
     "data": {
      "image/png": "[encoded data removed]",
      "text/plain": [
       "<Figure size 432x288 with 1 Axes>"
      ]
     },
     "metadata": {
      "needs_background": "light"
     },
     "output_type": "display_data"
    }
   ],
   "source": [
    "hidden_size = 256\n",
    "encoder1 = EncoderRNN(input_lang.n_words, hidden_size).to(device)\n",
    "attn_decoder1 = AttnDecoderRNN(hidden_size, output_lang.n_words, dropout_p=0.1).to(device)\n",
    "\n",
    "trainIters(encoder1, attn_decoder1, 75000, print_every=5000)"
   ]
  },
  {
   "cell_type": "code",
   "execution_count": null,
   "metadata": {},
   "outputs": [],
   "source": []
  },
  {
   "cell_type": "code",
   "execution_count": 77,
   "metadata": {},
   "outputs": [
    {
     "name": "stdout",
     "output_type": "stream",
     "text": [
      "> அவனுக்கு நீச்சல் மீது பற்று உண்டு\n",
      "= he is fond of swimming .\n",
      "< he is fond of swimming . <EOS>\n",
      "\n",
      "> அவளுக்கு எட்டு வயது\n",
      "= she is eight .\n",
      "< she is eight . <EOS>\n",
      "\n",
      "> அவன் இன்னும் இருக்கிறான்\n",
      "= he is still here .\n",
      "< he is still here . <EOS>\n",
      "\n",
      "> அவனுக்கு இறந்து போவதென்றால் பயம்\n",
      "= he is afraid of death .\n",
      "< he is afraid of death . <EOS>\n",
      "\n",
      "> அவர்கள் கிளம்ப இருக்கிறார்கள்\n",
      "= they re about to leave .\n",
      "< they re about to leave . <EOS>\n",
      "\n",
      "> அவனுக்கு நீச்சல் மீது பற்று உண்டு\n",
      "= he is fond of swimming .\n",
      "< he is fond of swimming . <EOS>\n",
      "\n",
      "> என் மகனைப் பற்றி பெருமைப் படுகிறேன்\n",
      "= i m proud of my son .\n",
      "< i m proud of my son . <EOS>\n",
      "\n",
      "> எப்படி பதில் சொல்வது என்பதில் நான் உறுதியாக இல்லை.\n",
      "= i m not sure how to answer this .\n",
      "< i m not sure how to answer this . <EOS>\n",
      "\n",
      "> எனக்குக் கரடிகளைக கண்டால் பயம்\n",
      "= i am afraid of bears .\n",
      "< i am afraid of bears . <EOS>\n",
      "\n",
      "> நான் வேலை பளுவினால் சோர்வாகயிருக்கிறேன்\n",
      "= i am tired of my work .\n",
      "< i am tired of my work . <EOS>\n",
      "\n"
     ]
    }
   ],
   "source": [
    "evaluateRandomly(encoder1, attn_decoder1)"
   ]
  },
  {
   "cell_type": "code",
   "execution_count": 86,
   "metadata": {},
   "outputs": [
    {
     "data": {
      "text/plain": [
       "<matplotlib.image.AxesImage at 0x7f7a64648f98>"
      ]
     },
     "execution_count": 86,
     "metadata": {},
     "output_type": "execute_result"
    },
    {
     "data": {
      "image/png": "[encoded data removed]",
      "text/plain": [
       "<Figure size 411.429x288 with 1 Axes>"
      ]
     },
     "metadata": {
      "needs_background": "light"
     },
     "output_type": "display_data"
    }
   ],
   "source": [
    "output_words, attentions = evaluate(\n",
    "    encoder1, attn_decoder1, \"அவனுக்கு நீச்சல் மீது பற்று உண்டு\")\n",
    "plt.matshow(attentions.numpy())"
   ]
  },
  {
   "cell_type": "code",
   "execution_count": 87,
   "metadata": {},
   "outputs": [],
   "source": [
    "def showAttention(input_sentence, output_words, attentions):\n",
    "    # Set up figure with colorbar\n",
    "    fig = plt.figure()\n",
    "    ax = fig.add_subplot(111)\n",
    "    cax = ax.matshow(attentions.numpy(), cmap='bone')\n",
    "    fig.colorbar(cax)\n",
    "\n",
    "    # Set up axes\n",
    "    ax.set_xticklabels([''] + input_sentence.split(' ') +\n",
    "                       ['<EOS>'], rotation=90)\n",
    "    ax.set_yticklabels([''] + output_words)\n",
    "\n",
    "    # Show label at every tick\n",
    "    ax.xaxis.set_major_locator(ticker.MultipleLocator(1))\n",
    "    ax.yaxis.set_major_locator(ticker.MultipleLocator(1))\n",
    "\n",
    "    plt.show()"
   ]
  },
  {
   "cell_type": "code",
   "execution_count": 88,
   "metadata": {},
   "outputs": [],
   "source": [
    "def evaluateAndShowAttention(input_sentence):\n",
    "    output_words, attentions = evaluate(\n",
    "        encoder1, attn_decoder1, input_sentence)\n",
    "    print('input =', input_sentence)\n",
    "    print('output =', ' '.join(output_words))\n",
    "    showAttention(input_sentence, output_words, attentions)"
   ]
  },
  {
   "cell_type": "code",
   "execution_count": 95,
   "metadata": {},
   "outputs": [
    {
     "name": "stdout",
     "output_type": "stream",
     "text": [
      "அவன் வருவது நிச்சயம்\n"
     ]
    }
   ],
   "source": [
    "print(random.choice(pairs)[0])"
   ]
  },
  {
   "cell_type": "code",
   "execution_count": 96,
   "metadata": {},
   "outputs": [
    {
     "name": "stdout",
     "output_type": "stream",
     "text": [
      "input = என் மகனைப் பற்றி பெருமைப் படுகிறேன்\n",
      "output = i m proud of my son . <EOS>\n"
     ]
    },
    {
     "name": "stderr",
     "output_type": "stream",
     "text": [
      "/home/crayondata.com/sundararaman/venv/lib/python3.6/site-packages/matplotlib/backends/backend_agg.py:211: RuntimeWarning: Glyph 2958 missing from current font.\n",
      "  font.set_text(s, 0.0, flags=flags)\n",
      "/home/crayondata.com/sundararaman/venv/lib/python3.6/site-packages/matplotlib/backends/backend_agg.py:211: RuntimeWarning: Glyph 3016 missing from current font.\n",
      "  font.set_text(s, 0.0, flags=flags)\n",
      "/home/crayondata.com/sundararaman/venv/lib/python3.6/site-packages/matplotlib/backends/backend_agg.py:211: RuntimeWarning: Glyph 3007 missing from current font.\n",
      "  font.set_text(s, 0.0, flags=flags)\n",
      "/home/crayondata.com/sundararaman/venv/lib/python3.6/site-packages/matplotlib/backends/backend_agg.py:211: RuntimeWarning: Glyph 2992 missing from current font.\n",
      "  font.set_text(s, 0.0, flags=flags)\n",
      "/home/crayondata.com/sundararaman/venv/lib/python3.6/site-packages/matplotlib/backends/backend_agg.py:211: RuntimeWarning: Glyph 2975 missing from current font.\n",
      "  font.set_text(s, 0.0, flags=flags)\n",
      "/home/crayondata.com/sundararaman/venv/lib/python3.6/site-packages/matplotlib/backends/backend_agg.py:211: RuntimeWarning: Glyph 3015 missing from current font.\n",
      "  font.set_text(s, 0.0, flags=flags)\n",
      "/home/crayondata.com/sundararaman/venv/lib/python3.6/site-packages/matplotlib/backends/backend_agg.py:180: RuntimeWarning: Glyph 2958 missing from current font.\n",
      "  font.set_text(s, 0, flags=flags)\n",
      "/home/crayondata.com/sundararaman/venv/lib/python3.6/site-packages/matplotlib/backends/backend_agg.py:180: RuntimeWarning: Glyph 3016 missing from current font.\n",
      "  font.set_text(s, 0, flags=flags)\n",
      "/home/crayondata.com/sundararaman/venv/lib/python3.6/site-packages/matplotlib/backends/backend_agg.py:180: RuntimeWarning: Glyph 3007 missing from current font.\n",
      "  font.set_text(s, 0, flags=flags)\n",
      "/home/crayondata.com/sundararaman/venv/lib/python3.6/site-packages/matplotlib/backends/backend_agg.py:180: RuntimeWarning: Glyph 2992 missing from current font.\n",
      "  font.set_text(s, 0, flags=flags)\n",
      "/home/crayondata.com/sundararaman/venv/lib/python3.6/site-packages/matplotlib/backends/backend_agg.py:180: RuntimeWarning: Glyph 2975 missing from current font.\n",
      "  font.set_text(s, 0, flags=flags)\n",
      "/home/crayondata.com/sundararaman/venv/lib/python3.6/site-packages/matplotlib/backends/backend_agg.py:180: RuntimeWarning: Glyph 3015 missing from current font.\n",
      "  font.set_text(s, 0, flags=flags)\n"
     ]
    },
    {
     "data": {
      "image/png": "[encoded data removed]",
      "text/plain": [
       "<Figure size 432x288 with 2 Axes>"
      ]
     },
     "metadata": {
      "needs_background": "light"
     },
     "output_type": "display_data"
    }
   ],
   "source": [
    "evaluateAndShowAttention(random.choice(pairs)[0])\n"
   ]
  },
  {
   "cell_type": "code",
   "execution_count": 97,
   "metadata": {},
   "outputs": [
    {
     "name": "stdout",
     "output_type": "stream",
     "text": [
      "input = எனக்குக் கரடிகளைக கண்டால் பயம்\n",
      "output = i am afraid of bears . <EOS>\n"
     ]
    },
    {
     "name": "stderr",
     "output_type": "stream",
     "text": [
      "/home/crayondata.com/sundararaman/venv/lib/python3.6/site-packages/matplotlib/backends/backend_agg.py:211: RuntimeWarning: Glyph 2995 missing from current font.\n",
      "  font.set_text(s, 0.0, flags=flags)\n",
      "/home/crayondata.com/sundararaman/venv/lib/python3.6/site-packages/matplotlib/backends/backend_agg.py:211: RuntimeWarning: Glyph 2979 missing from current font.\n",
      "  font.set_text(s, 0.0, flags=flags)\n",
      "/home/crayondata.com/sundararaman/venv/lib/python3.6/site-packages/matplotlib/backends/backend_agg.py:180: RuntimeWarning: Glyph 2995 missing from current font.\n",
      "  font.set_text(s, 0, flags=flags)\n",
      "/home/crayondata.com/sundararaman/venv/lib/python3.6/site-packages/matplotlib/backends/backend_agg.py:180: RuntimeWarning: Glyph 2979 missing from current font.\n",
      "  font.set_text(s, 0, flags=flags)\n"
     ]
    },
    {
     "data": {
      "image/png": "[encoded data removed]",
      "text/plain": [
       "<Figure size 432x288 with 2 Axes>"
      ]
     },
     "metadata": {
      "needs_background": "light"
     },
     "output_type": "display_data"
    }
   ],
   "source": [
    "evaluateAndShowAttention(random.choice(pairs)[0])\n"
   ]
  },
  {
   "cell_type": "code",
   "execution_count": 109,
   "metadata": {},
   "outputs": [
    {
     "name": "stdout",
     "output_type": "stream",
     "text": [
      "input = நான் வேலை பளுவினால் சோர்வாகயிருக்கிறேன்\n",
      "output = i am tired of my work . <EOS>\n"
     ]
    },
    {
     "data": {
      "image/png": "[encoded data removed]",
      "text/plain": [
       "<Figure size 432x288 with 2 Axes>"
      ]
     },
     "metadata": {
      "needs_background": "light"
     },
     "output_type": "display_data"
    }
   ],
   "source": [
    "evaluateAndShowAttention(random.choice(pairs)[0])\n"
   ]
  },
  {
   "cell_type": "code",
   "execution_count": 133,
   "metadata": {},
   "outputs": [
    {
     "data": {
      "text/plain": [
       "'agg'"
      ]
     },
     "execution_count": 133,
     "metadata": {},
     "output_type": "execute_result"
    }
   ],
   "source": [
    "import matplotlib\n"
   ]
  },
  {
   "cell_type": "code",
   "execution_count": 134,
   "metadata": {},
   "outputs": [],
   "source": [
    "matplotlib.use(\"TkAgg\")"
   ]
  },
  {
   "cell_type": "code",
   "execution_count": 148,
   "metadata": {},
   "outputs": [],
   "source": [
    "%matplotlib inline\n",
    "# sns.set_context('notebook')\n",
    "%config InlineBackend.figure_format = 'retina'"
   ]
  },
  {
   "cell_type": "code",
   "execution_count": 141,
   "metadata": {},
   "outputs": [
    {
     "data": {
      "text/plain": [
       "'TkAgg'"
      ]
     },
     "execution_count": 141,
     "metadata": {},
     "output_type": "execute_result"
    }
   ],
   "source": [
    "matplotlib.get_backend()"
   ]
  },
  {
   "cell_type": "markdown",
   "metadata": {},
   "source": [
    "# Reference\n",
    "* https://www.manythings.org/anki/"
   ]
  },
  {
   "cell_type": "code",
   "execution_count": null,
   "metadata": {},
   "outputs": [],
   "source": []
  }
 ],
 "metadata": {
  "kernelspec": {
   "display_name": "Python 3",
   "language": "python",
   "name": "python3"
  },
  "language_info": {
   "codemirror_mode": {
    "name": "ipython",
    "version": 3
   },
   "file_extension": ".py",
   "mimetype": "text/x-python",
   "name": "python",
   "nbconvert_exporter": "python",
   "pygments_lexer": "ipython3",
   "version": "3.6.8"
  }
 },
 "nbformat": 4,
 "nbformat_minor": 2
}
